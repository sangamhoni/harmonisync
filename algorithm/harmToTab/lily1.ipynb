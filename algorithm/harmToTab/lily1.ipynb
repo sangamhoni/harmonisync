{
 "cells": [
  {
   "cell_type": "code",
   "execution_count": 7,
   "metadata": {},
   "outputs": [],
   "source": [
    "from music21 import converter, lily"
   ]
  },
  {
   "cell_type": "code",
   "execution_count": 13,
   "metadata": {},
   "outputs": [],
   "source": [
    "# Load the MusicXML file\n",
    "musicxml_file_path = '/Users/tao-taohe/Desktop/harmoniSync/harmAnal/chords1.musicxml'\n",
    "score = converter.parse(musicxml_file_path)"
   ]
  },
  {
   "cell_type": "code",
   "execution_count": 14,
   "metadata": {},
   "outputs": [],
   "source": [
    "from music21 import environment\n",
    "us = environment.UserSettings()\n",
    "us['lilypondPath'] = '/opt/homebrew/bin/lilypond'  # Update path if it's different\n"
   ]
  },
  {
   "cell_type": "code",
   "execution_count": 15,
   "metadata": {},
   "outputs": [
    {
     "data": {
      "text/plain": [
       "PosixPath('/Users/tao-taohe/Desktop/harmoniSync/harmToTab/output_Orig.ly')"
      ]
     },
     "execution_count": 15,
     "metadata": {},
     "output_type": "execute_result"
    }
   ],
   "source": [
    "# Write the LilyPond file to disk\n",
    "output_file_path = '/Users/tao-taohe/Desktop/harmoniSync/harmToTab/output_Orig.ly'  # Ensure this directory is writable\n",
    "score.write('lilypond', fp=output_file_path)"
   ]
  },
  {
   "cell_type": "code",
   "execution_count": 11,
   "metadata": {},
   "outputs": [],
   "source": [
    "norm = converter.parse(\"/Users/tao-taohe/Desktop/harmoniSync/harmToTab/test.musicxml\")"
   ]
  }
 ],
 "metadata": {
  "kernelspec": {
   "display_name": "Python 3",
   "language": "python",
   "name": "python3"
  },
  "language_info": {
   "codemirror_mode": {
    "name": "ipython",
    "version": 3
   },
   "file_extension": ".py",
   "mimetype": "text/x-python",
   "name": "python",
   "nbconvert_exporter": "python",
   "pygments_lexer": "ipython3",
   "version": "3.9.6 (default, Aug  9 2024, 14:24:13) \n[Clang 16.0.0 (clang-1600.0.26.3)]"
  },
  "orig_nbformat": 4,
  "vscode": {
   "interpreter": {
    "hash": "31f2aee4e71d21fbe5cf8b01ff0e069b9275f58929596ceb00d14d90e3e16cd6"
   }
  }
 },
 "nbformat": 4,
 "nbformat_minor": 2
}
