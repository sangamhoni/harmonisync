{
 "cells": [
  {
   "cell_type": "code",
   "execution_count": 1,
   "metadata": {},
   "outputs": [
    {
     "data": {
      "text/plain": [
       "PosixPath('/Users/tao-taohe/Desktop/output_file.ly')"
      ]
     },
     "execution_count": 1,
     "metadata": {},
     "output_type": "execute_result"
    }
   ],
   "source": [
    "from music21 import stream, note\n",
    "\n",
    "# Create a simple score\n",
    "simple_score = stream.Score()\n",
    "simple_part = stream.Part()\n",
    "\n",
    "# Add some notes\n",
    "simple_part.append(note.Note(\"C4\", quarterLength=1))\n",
    "simple_part.append(note.Note(\"E4\", quarterLength=1))\n",
    "simple_part.append(note.Note(\"G4\", quarterLength=1))\n",
    "simple_score.append(simple_part)\n",
    "\n",
    "# Write the simple score to LilyPond file\n",
    "output_path = '/Users/tao-taohe/Desktop/output_file.ly'\n",
    "simple_score.write('lilypond', fp=output_path)\n"
   ]
  },
  {
   "cell_type": "code",
   "execution_count": 2,
   "metadata": {},
   "outputs": [
    {
     "data": {
      "text/plain": [
       "PosixPath('/Users/tao-taohe/Desktop/output_file.ly')"
      ]
     },
     "execution_count": 2,
     "metadata": {},
     "output_type": "execute_result"
    }
   ],
   "source": [
    "# Write the simple score to a LilyPond file\n",
    "output_path = '/Users/tao-taohe/Desktop/output_file.ly'\n",
    "simple_score.write('lilypond', fp=output_path)"
   ]
  }
 ],
 "metadata": {
  "kernelspec": {
   "display_name": "base",
   "language": "python",
   "name": "python3"
  },
  "language_info": {
   "codemirror_mode": {
    "name": "ipython",
    "version": 3
   },
   "file_extension": ".py",
   "mimetype": "text/x-python",
   "name": "python",
   "nbconvert_exporter": "python",
   "pygments_lexer": "ipython3",
   "version": "3.11.7 (main, Dec 15 2023, 12:09:04) [Clang 14.0.6 ]"
  },
  "orig_nbformat": 4,
  "vscode": {
   "interpreter": {
    "hash": "f92e0feefb3ac46f88cc3a9e42d1403950e5e388ec02e70a7d86d360e4ebe2df"
   }
  }
 },
 "nbformat": 4,
 "nbformat_minor": 2
}
