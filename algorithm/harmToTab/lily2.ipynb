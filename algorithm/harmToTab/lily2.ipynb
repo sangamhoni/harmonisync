{
 "cells": [
  {
   "cell_type": "code",
   "execution_count": 1,
   "metadata": {},
   "outputs": [
    {
     "name": "stderr",
     "output_type": "stream",
     "text": [
      "/Users/tao-taohe/Library/Python/3.9/lib/python/site-packages/urllib3/__init__.py:35: NotOpenSSLWarning: urllib3 v2 only supports OpenSSL 1.1.1+, currently the 'ssl' module is compiled with 'LibreSSL 2.8.3'. See: https://github.com/urllib3/urllib3/issues/3020\n",
      "  warnings.warn(\n"
     ]
    }
   ],
   "source": [
    "from music21 import *\n",
    "import io"
   ]
  },
  {
   "cell_type": "code",
   "execution_count": 2,
   "metadata": {},
   "outputs": [],
   "source": [
    "def musicxml2ly(input):\n",
    "    # Write the score to the buffer in LilyPond format\n",
    "    input.write('lilypond', fp=ly_buffer)\n",
    "\n",
    "    # Get the content of the buffer as a string\n",
    "    ly_content = ly_buffer.getvalue()\n",
    "\n",
    "    # Close the buffer\n",
    "    ly_buffer.close()\n",
    "\n",
    "    # Define the lines to comment out\n",
    "    lines_to_comment = [\n",
    "        r'\\include \"lilypond-book-preamble.ly\"',\n",
    "        r'color = #(define-music-function (parser location color) (string?) #{',\n",
    "        r'    \\once \\override NoteHead #\\'color = #(x11-color color)',\n",
    "        r'    \\once \\override Stem #\\'color = #(x11-color color)',\n",
    "        r'    \\once \\override Rest #\\'color = #(x11-color color)',\n",
    "        r'    \\once \\override Beam #\\'color = #(x11-color color)',\n",
    "        r'#{'\n",
    "    ]\n",
    "\n",
    "    # Comment out the specified lines\n",
    "    for line in lines_to_comment:\n",
    "        ly_content = ly_content.replace(line, f'% {line}')\n",
    "    \n",
    "    return ly_content"
   ]
  },
  {
   "cell_type": "code",
   "execution_count": 3,
   "metadata": {},
   "outputs": [
    {
     "ename": "NameError",
     "evalue": "name 'ly_buffer' is not defined",
     "output_type": "error",
     "traceback": [
      "\u001b[0;31m---------------------------------------------------------------------------\u001b[0m",
      "\u001b[0;31mNameError\u001b[0m                                 Traceback (most recent call last)",
      "Cell \u001b[0;32mIn[3], line 3\u001b[0m\n\u001b[1;32m      1\u001b[0m musicxml_file_path \u001b[39m=\u001b[39m \u001b[39m'\u001b[39m\u001b[39m/Users/tao-taohe/Desktop/harmoniSync/harmAnal/chords1.musicxml\u001b[39m\u001b[39m'\u001b[39m\n\u001b[1;32m      2\u001b[0m score \u001b[39m=\u001b[39m converter\u001b[39m.\u001b[39mparse(musicxml_file_path)\n\u001b[0;32m----> 3\u001b[0m scoreLy \u001b[39m=\u001b[39m musicxml2ly(score)\n\u001b[1;32m      5\u001b[0m \u001b[39m# Write the LilyPond file to disk\u001b[39;00m\n\u001b[1;32m      6\u001b[0m output_file_path \u001b[39m=\u001b[39m \u001b[39m'\u001b[39m\u001b[39m/Users/tao-taohe/Desktop/harmoniSync/harmToTab/output_Orig.ly\u001b[39m\u001b[39m'\u001b[39m  \u001b[39m# Ensure this directory is writable\u001b[39;00m\n",
      "Cell \u001b[0;32mIn[2], line 3\u001b[0m, in \u001b[0;36mmusicxml2ly\u001b[0;34m(input)\u001b[0m\n\u001b[1;32m      1\u001b[0m \u001b[39mdef\u001b[39;00m \u001b[39mmusicxml2ly\u001b[39m(\u001b[39minput\u001b[39m):\n\u001b[1;32m      2\u001b[0m     \u001b[39m# Write the score to the buffer in LilyPond format\u001b[39;00m\n\u001b[0;32m----> 3\u001b[0m     \u001b[39minput\u001b[39m\u001b[39m.\u001b[39mwrite(\u001b[39m'\u001b[39m\u001b[39mlilypond\u001b[39m\u001b[39m'\u001b[39m, fp\u001b[39m=\u001b[39mly_buffer)\n\u001b[1;32m      5\u001b[0m     \u001b[39m# Get the content of the buffer as a string\u001b[39;00m\n\u001b[1;32m      6\u001b[0m     ly_content \u001b[39m=\u001b[39m ly_buffer\u001b[39m.\u001b[39mgetvalue()\n",
      "\u001b[0;31mNameError\u001b[0m: name 'ly_buffer' is not defined"
     ]
    }
   ],
   "source": [
    "musicxml_file_path = '/Users/tao-taohe/Desktop/harmoniSync/harmAnal/chords1.musicxml'\n",
    "score = converter.parse(musicxml_file_path)\n",
    "scoreLy = musicxml2ly(score)\n",
    "\n",
    "# Write the LilyPond file to disk\n",
    "output_file_path = '/Users/tao-taohe/Desktop/harmoniSync/harmToTab/output_Orig.ly'  # Ensure this directory is writable\n",
    "scoreLy.write('lilypond', fp=output_file_path)"
   ]
  }
 ],
 "metadata": {
  "kernelspec": {
   "display_name": "Python 3",
   "language": "python",
   "name": "python3"
  },
  "language_info": {
   "codemirror_mode": {
    "name": "ipython",
    "version": 3
   },
   "file_extension": ".py",
   "mimetype": "text/x-python",
   "name": "python",
   "nbconvert_exporter": "python",
   "pygments_lexer": "ipython3",
   "version": "3.9.6"
  },
  "orig_nbformat": 4,
  "vscode": {
   "interpreter": {
    "hash": "31f2aee4e71d21fbe5cf8b01ff0e069b9275f58929596ceb00d14d90e3e16cd6"
   }
  }
 },
 "nbformat": 4,
 "nbformat_minor": 2
}
